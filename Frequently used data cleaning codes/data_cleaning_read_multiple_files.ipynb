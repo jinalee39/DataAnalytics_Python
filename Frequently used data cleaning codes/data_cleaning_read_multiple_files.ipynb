{
 "cells": [
  {
   "cell_type": "markdown",
   "id": "9b7639a9-93ca-48eb-a262-b234f63ed13e",
   "metadata": {},
   "source": [
    "- There are cases in which it is necessary to read multiple files with the same format and structure  \n",
    "  and make them into a single data frame for analysis.  \n",
    "- In the example below,  \n",
    "  6 monthly revenue files for the first half of 2023 are to be created as one data frame.  \n",
    "- There is also a way to merge files after reading them one by one,  \n",
    "  but the code below is useful if there are a large number of files to be read and merged."
   ]
  },
  {
   "cell_type": "code",
   "execution_count": 1,
   "id": "31cf60c0-de2f-42e3-b15b-8343306db51b",
   "metadata": {},
   "outputs": [],
   "source": [
    "import pandas as pd\n",
    "import glob"
   ]
  },
  {
   "cell_type": "markdown",
   "id": "76136a68-d5ba-4768-b3e5-ecf1110daea8",
   "metadata": {},
   "source": [
    "1. Specify the folder path where the files are located and check the number and list of target files."
   ]
  },
  {
   "cell_type": "code",
   "execution_count": 2,
   "id": "4fd283cb-833a-4d94-a38a-48677ef32ddd",
   "metadata": {},
   "outputs": [
    {
     "name": "stdout",
     "output_type": "stream",
     "text": [
      "6\n",
      "['./data/revenue\\\\sample_data_revenue_2301.xlsx', './data/revenue\\\\sample_data_revenue_2302.xlsx', './data/revenue\\\\sample_data_revenue_2303.xlsx', './data/revenue\\\\sample_data_revenue_2304.xlsx', './data/revenue\\\\sample_data_revenue_2305.xlsx', './data/revenue\\\\sample_data_revenue_2306.xlsx']\n"
     ]
    }
   ],
   "source": [
    "path = './data/revenue/**'\n",
    "\n",
    "file_list = []\n",
    "for file in glob.glob(path, recursive=True):\n",
    "    file_list.append(file)\n",
    "\n",
    "file_list_excel = [file for file in file_list if file.endswith('.xlsx')]\n",
    "\n",
    "print(len(file_list_excel))\n",
    "print(file_list_excel)"
   ]
  },
  {
   "cell_type": "markdown",
   "id": "653e6063-71b1-4a77-9dd1-03f9409ba8c6",
   "metadata": {},
   "source": [
    "2. Merge the files into a single data frame using the loaded file path and list"
   ]
  },
  {
   "cell_type": "code",
   "execution_count": 3,
   "id": "4772b71d-66d4-44d0-b7c4-4a75c3cdabc7",
   "metadata": {},
   "outputs": [],
   "source": [
    "df = pd.DataFrame()\n",
    "for i in file_list_excel:\n",
    "    data = pd.read_excel(i)\n",
    "    df = pd.concat([df, data])\n",
    "    \n",
    "df = df.reset_index(drop = True)"
   ]
  },
  {
   "cell_type": "markdown",
   "id": "0564015c-0625-465e-a7e6-e4ec7aa163c7",
   "metadata": {},
   "source": [
    "3. Check the completed data frame.\n",
    "- If you check the month information in the 'date' column,  \n",
    "  you can see that the data from January to June are well combined."
   ]
  },
  {
   "cell_type": "code",
   "execution_count": 4,
   "id": "7e6c4d60-22de-4b4b-bc56-56d1255cdfa0",
   "metadata": {},
   "outputs": [
    {
     "name": "stdout",
     "output_type": "stream",
     "text": [
      "(181, 2)\n"
     ]
    },
    {
     "data": {
      "text/html": [
       "<div>\n",
       "<style scoped>\n",
       "    .dataframe tbody tr th:only-of-type {\n",
       "        vertical-align: middle;\n",
       "    }\n",
       "\n",
       "    .dataframe tbody tr th {\n",
       "        vertical-align: top;\n",
       "    }\n",
       "\n",
       "    .dataframe thead th {\n",
       "        text-align: right;\n",
       "    }\n",
       "</style>\n",
       "<table border=\"1\" class=\"dataframe\">\n",
       "  <thead>\n",
       "    <tr style=\"text-align: right;\">\n",
       "      <th></th>\n",
       "      <th>date</th>\n",
       "      <th>revenue</th>\n",
       "    </tr>\n",
       "  </thead>\n",
       "  <tbody>\n",
       "    <tr>\n",
       "      <th>0</th>\n",
       "      <td>2023-01-01</td>\n",
       "      <td>1240</td>\n",
       "    </tr>\n",
       "    <tr>\n",
       "      <th>1</th>\n",
       "      <td>2023-01-02</td>\n",
       "      <td>2147</td>\n",
       "    </tr>\n",
       "    <tr>\n",
       "      <th>2</th>\n",
       "      <td>2023-01-03</td>\n",
       "      <td>2085</td>\n",
       "    </tr>\n",
       "    <tr>\n",
       "      <th>3</th>\n",
       "      <td>2023-01-04</td>\n",
       "      <td>2891</td>\n",
       "    </tr>\n",
       "    <tr>\n",
       "      <th>4</th>\n",
       "      <td>2023-01-05</td>\n",
       "      <td>2901</td>\n",
       "    </tr>\n",
       "  </tbody>\n",
       "</table>\n",
       "</div>"
      ],
      "text/plain": [
       "        date  revenue\n",
       "0 2023-01-01     1240\n",
       "1 2023-01-02     2147\n",
       "2 2023-01-03     2085\n",
       "3 2023-01-04     2891\n",
       "4 2023-01-05     2901"
      ]
     },
     "execution_count": 4,
     "metadata": {},
     "output_type": "execute_result"
    }
   ],
   "source": [
    "print(df.shape)\n",
    "df.head()"
   ]
  },
  {
   "cell_type": "code",
   "execution_count": 5,
   "id": "30ad38ba-74ab-4006-9dff-ad984fa0f84d",
   "metadata": {},
   "outputs": [
    {
     "data": {
      "text/html": [
       "<div>\n",
       "<style scoped>\n",
       "    .dataframe tbody tr th:only-of-type {\n",
       "        vertical-align: middle;\n",
       "    }\n",
       "\n",
       "    .dataframe tbody tr th {\n",
       "        vertical-align: top;\n",
       "    }\n",
       "\n",
       "    .dataframe thead th {\n",
       "        text-align: right;\n",
       "    }\n",
       "</style>\n",
       "<table border=\"1\" class=\"dataframe\">\n",
       "  <thead>\n",
       "    <tr style=\"text-align: right;\">\n",
       "      <th></th>\n",
       "      <th>date</th>\n",
       "      <th>revenue</th>\n",
       "    </tr>\n",
       "  </thead>\n",
       "  <tbody>\n",
       "    <tr>\n",
       "      <th>176</th>\n",
       "      <td>2023-06-26</td>\n",
       "      <td>2289</td>\n",
       "    </tr>\n",
       "    <tr>\n",
       "      <th>177</th>\n",
       "      <td>2023-06-27</td>\n",
       "      <td>1560</td>\n",
       "    </tr>\n",
       "    <tr>\n",
       "      <th>178</th>\n",
       "      <td>2023-06-28</td>\n",
       "      <td>1067</td>\n",
       "    </tr>\n",
       "    <tr>\n",
       "      <th>179</th>\n",
       "      <td>2023-06-29</td>\n",
       "      <td>1992</td>\n",
       "    </tr>\n",
       "    <tr>\n",
       "      <th>180</th>\n",
       "      <td>2023-06-30</td>\n",
       "      <td>2263</td>\n",
       "    </tr>\n",
       "  </tbody>\n",
       "</table>\n",
       "</div>"
      ],
      "text/plain": [
       "          date  revenue\n",
       "176 2023-06-26     2289\n",
       "177 2023-06-27     1560\n",
       "178 2023-06-28     1067\n",
       "179 2023-06-29     1992\n",
       "180 2023-06-30     2263"
      ]
     },
     "execution_count": 5,
     "metadata": {},
     "output_type": "execute_result"
    }
   ],
   "source": [
    "df.tail()"
   ]
  },
  {
   "cell_type": "code",
   "execution_count": 7,
   "id": "f63b67c1-073b-4ef3-beea-5c59f96e9865",
   "metadata": {},
   "outputs": [
    {
     "name": "stdout",
     "output_type": "stream",
     "text": [
      "<class 'pandas.core.frame.DataFrame'>\n",
      "RangeIndex: 181 entries, 0 to 180\n",
      "Data columns (total 2 columns):\n",
      " #   Column   Non-Null Count  Dtype         \n",
      "---  ------   --------------  -----         \n",
      " 0   date     181 non-null    datetime64[ns]\n",
      " 1   revenue  181 non-null    int64         \n",
      "dtypes: datetime64[ns](1), int64(1)\n",
      "memory usage: 3.0 KB\n"
     ]
    }
   ],
   "source": [
    "df.info()"
   ]
  },
  {
   "cell_type": "code",
   "execution_count": 8,
   "id": "e4dcea00-430b-4bc7-bc74-4d03fc2b5b09",
   "metadata": {},
   "outputs": [
    {
     "data": {
      "text/plain": [
       "array([1, 2, 3, 4, 5, 6])"
      ]
     },
     "execution_count": 8,
     "metadata": {},
     "output_type": "execute_result"
    }
   ],
   "source": [
    "df['date'].dt.month.unique()"
   ]
  }
 ],
 "metadata": {
  "kernelspec": {
   "display_name": "Python 3 (ipykernel)",
   "language": "python",
   "name": "python3"
  },
  "language_info": {
   "codemirror_mode": {
    "name": "ipython",
    "version": 3
   },
   "file_extension": ".py",
   "mimetype": "text/x-python",
   "name": "python",
   "nbconvert_exporter": "python",
   "pygments_lexer": "ipython3",
   "version": "3.10.11"
  }
 },
 "nbformat": 4,
 "nbformat_minor": 5
}
