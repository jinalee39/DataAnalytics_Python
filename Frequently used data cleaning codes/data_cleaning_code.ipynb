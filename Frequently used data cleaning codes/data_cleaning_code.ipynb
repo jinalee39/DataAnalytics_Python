{
 "cells": [
  {
   "cell_type": "markdown",
   "id": "8d84da0b-d78e-48a9-a9e6-3245131f12e9",
   "metadata": {},
   "source": [
    "- There are cases in which the code column of the original data needs to be cleaned.\n",
    "- I am trying to merge with other data by using this code column as a merge condition,  \n",
    "  but there are often cases where the number of digits in the code is not uniform.\n",
    "\n",
    "- In this case, use the zfill() or rjust() function  \n",
    "  to change the number of digits or shape of the code column."
   ]
  },
  {
   "cell_type": "code",
   "execution_count": 1,
   "id": "bbc19c7e",
   "metadata": {
    "scrolled": true,
    "tags": []
   },
   "outputs": [],
   "source": [
    "import pandas as pd\n",
    "import numpy as np"
   ]
  },
  {
   "cell_type": "code",
   "execution_count": 2,
   "id": "2aa56e00-f780-4488-a696-70d37d32b5ea",
   "metadata": {},
   "outputs": [
    {
     "name": "stdout",
     "output_type": "stream",
     "text": [
      "(6, 1)\n"
     ]
    },
    {
     "data": {
      "text/html": [
       "<div>\n",
       "<style scoped>\n",
       "    .dataframe tbody tr th:only-of-type {\n",
       "        vertical-align: middle;\n",
       "    }\n",
       "\n",
       "    .dataframe tbody tr th {\n",
       "        vertical-align: top;\n",
       "    }\n",
       "\n",
       "    .dataframe thead th {\n",
       "        text-align: right;\n",
       "    }\n",
       "</style>\n",
       "<table border=\"1\" class=\"dataframe\">\n",
       "  <thead>\n",
       "    <tr style=\"text-align: right;\">\n",
       "      <th></th>\n",
       "      <th>code</th>\n",
       "    </tr>\n",
       "  </thead>\n",
       "  <tbody>\n",
       "    <tr>\n",
       "      <th>0</th>\n",
       "      <td>1000</td>\n",
       "    </tr>\n",
       "    <tr>\n",
       "      <th>1</th>\n",
       "      <td>1001</td>\n",
       "    </tr>\n",
       "    <tr>\n",
       "      <th>2</th>\n",
       "      <td>1002</td>\n",
       "    </tr>\n",
       "    <tr>\n",
       "      <th>3</th>\n",
       "      <td>2000</td>\n",
       "    </tr>\n",
       "    <tr>\n",
       "      <th>4</th>\n",
       "      <td>2001</td>\n",
       "    </tr>\n",
       "    <tr>\n",
       "      <th>5</th>\n",
       "      <td>2002</td>\n",
       "    </tr>\n",
       "  </tbody>\n",
       "</table>\n",
       "</div>"
      ],
      "text/plain": [
       "   code\n",
       "0  1000\n",
       "1  1001\n",
       "2  1002\n",
       "3  2000\n",
       "4  2001\n",
       "5  2002"
      ]
     },
     "execution_count": 2,
     "metadata": {},
     "output_type": "execute_result"
    }
   ],
   "source": [
    "df = pd.read_excel(\"data/sample_data_code_2.xlsx\")\n",
    "print(df.shape)\n",
    "df"
   ]
  },
  {
   "cell_type": "markdown",
   "id": "da0e63af-3cd4-4e45-b1f2-8428d22324e3",
   "metadata": {},
   "source": [
    "- zfill() function fills \"0\" in front of a character to make it the desired number of digits.\n",
    "- Since the \"code\" column of the sample data is in numeric format,  \n",
    "  the function was applied after first converting it to a string type."
   ]
  },
  {
   "cell_type": "code",
   "execution_count": 3,
   "id": "685e46fa-439e-4e39-9830-508a7e1c9ab9",
   "metadata": {},
   "outputs": [
    {
     "data": {
      "text/html": [
       "<div>\n",
       "<style scoped>\n",
       "    .dataframe tbody tr th:only-of-type {\n",
       "        vertical-align: middle;\n",
       "    }\n",
       "\n",
       "    .dataframe tbody tr th {\n",
       "        vertical-align: top;\n",
       "    }\n",
       "\n",
       "    .dataframe thead th {\n",
       "        text-align: right;\n",
       "    }\n",
       "</style>\n",
       "<table border=\"1\" class=\"dataframe\">\n",
       "  <thead>\n",
       "    <tr style=\"text-align: right;\">\n",
       "      <th></th>\n",
       "      <th>code</th>\n",
       "      <th>code_zfill_5</th>\n",
       "      <th>code_zfill_7</th>\n",
       "    </tr>\n",
       "  </thead>\n",
       "  <tbody>\n",
       "    <tr>\n",
       "      <th>0</th>\n",
       "      <td>1000</td>\n",
       "      <td>01000</td>\n",
       "      <td>0001000</td>\n",
       "    </tr>\n",
       "    <tr>\n",
       "      <th>1</th>\n",
       "      <td>1001</td>\n",
       "      <td>01001</td>\n",
       "      <td>0001001</td>\n",
       "    </tr>\n",
       "    <tr>\n",
       "      <th>2</th>\n",
       "      <td>1002</td>\n",
       "      <td>01002</td>\n",
       "      <td>0001002</td>\n",
       "    </tr>\n",
       "    <tr>\n",
       "      <th>3</th>\n",
       "      <td>2000</td>\n",
       "      <td>02000</td>\n",
       "      <td>0002000</td>\n",
       "    </tr>\n",
       "    <tr>\n",
       "      <th>4</th>\n",
       "      <td>2001</td>\n",
       "      <td>02001</td>\n",
       "      <td>0002001</td>\n",
       "    </tr>\n",
       "    <tr>\n",
       "      <th>5</th>\n",
       "      <td>2002</td>\n",
       "      <td>02002</td>\n",
       "      <td>0002002</td>\n",
       "    </tr>\n",
       "  </tbody>\n",
       "</table>\n",
       "</div>"
      ],
      "text/plain": [
       "   code code_zfill_5 code_zfill_7\n",
       "0  1000        01000      0001000\n",
       "1  1001        01001      0001001\n",
       "2  1002        01002      0001002\n",
       "3  2000        02000      0002000\n",
       "4  2001        02001      0002001\n",
       "5  2002        02002      0002002"
      ]
     },
     "execution_count": 3,
     "metadata": {},
     "output_type": "execute_result"
    }
   ],
   "source": [
    "df['code_zfill_5'] = df['code'].apply(lambda x : str(x).zfill(5))\n",
    "df['code_zfill_7'] = df['code'].apply(lambda x : str(x).zfill(7))\n",
    "\n",
    "df"
   ]
  },
  {
   "cell_type": "markdown",
   "id": "71936ea0-e191-4744-9a48-81afd5853971",
   "metadata": {},
   "source": [
    "- rjust() function provides more flexibility.\n",
    "- You can make the desired number of digits  \n",
    "  by filling the front of the string with a character other than \"0\"."
   ]
  },
  {
   "cell_type": "code",
   "execution_count": 4,
   "id": "2528544e-4bf6-40c5-bc24-5494121296df",
   "metadata": {},
   "outputs": [
    {
     "data": {
      "text/html": [
       "<div>\n",
       "<style scoped>\n",
       "    .dataframe tbody tr th:only-of-type {\n",
       "        vertical-align: middle;\n",
       "    }\n",
       "\n",
       "    .dataframe tbody tr th {\n",
       "        vertical-align: top;\n",
       "    }\n",
       "\n",
       "    .dataframe thead th {\n",
       "        text-align: right;\n",
       "    }\n",
       "</style>\n",
       "<table border=\"1\" class=\"dataframe\">\n",
       "  <thead>\n",
       "    <tr style=\"text-align: right;\">\n",
       "      <th></th>\n",
       "      <th>code</th>\n",
       "      <th>code_zfill_5</th>\n",
       "      <th>code_zfill_7</th>\n",
       "      <th>code_rjust_5</th>\n",
       "      <th>code_rjust_A</th>\n",
       "    </tr>\n",
       "  </thead>\n",
       "  <tbody>\n",
       "    <tr>\n",
       "      <th>0</th>\n",
       "      <td>1000</td>\n",
       "      <td>01000</td>\n",
       "      <td>0001000</td>\n",
       "      <td>01000</td>\n",
       "      <td>A1000</td>\n",
       "    </tr>\n",
       "    <tr>\n",
       "      <th>1</th>\n",
       "      <td>1001</td>\n",
       "      <td>01001</td>\n",
       "      <td>0001001</td>\n",
       "      <td>01001</td>\n",
       "      <td>A1001</td>\n",
       "    </tr>\n",
       "    <tr>\n",
       "      <th>2</th>\n",
       "      <td>1002</td>\n",
       "      <td>01002</td>\n",
       "      <td>0001002</td>\n",
       "      <td>01002</td>\n",
       "      <td>A1002</td>\n",
       "    </tr>\n",
       "    <tr>\n",
       "      <th>3</th>\n",
       "      <td>2000</td>\n",
       "      <td>02000</td>\n",
       "      <td>0002000</td>\n",
       "      <td>02000</td>\n",
       "      <td>A2000</td>\n",
       "    </tr>\n",
       "    <tr>\n",
       "      <th>4</th>\n",
       "      <td>2001</td>\n",
       "      <td>02001</td>\n",
       "      <td>0002001</td>\n",
       "      <td>02001</td>\n",
       "      <td>A2001</td>\n",
       "    </tr>\n",
       "    <tr>\n",
       "      <th>5</th>\n",
       "      <td>2002</td>\n",
       "      <td>02002</td>\n",
       "      <td>0002002</td>\n",
       "      <td>02002</td>\n",
       "      <td>A2002</td>\n",
       "    </tr>\n",
       "  </tbody>\n",
       "</table>\n",
       "</div>"
      ],
      "text/plain": [
       "   code code_zfill_5 code_zfill_7 code_rjust_5 code_rjust_A\n",
       "0  1000        01000      0001000        01000        A1000\n",
       "1  1001        01001      0001001        01001        A1001\n",
       "2  1002        01002      0001002        01002        A1002\n",
       "3  2000        02000      0002000        02000        A2000\n",
       "4  2001        02001      0002001        02001        A2001\n",
       "5  2002        02002      0002002        02002        A2002"
      ]
     },
     "execution_count": 4,
     "metadata": {},
     "output_type": "execute_result"
    }
   ],
   "source": [
    "df['code_rjust_5'] = df['code'].apply(lambda x : str(x).rjust(5, \"0\"))\n",
    "df['code_rjust_A'] = df['code'].apply(lambda x : str(x).rjust(5, \"A\"))\n",
    "\n",
    "df"
   ]
  }
 ],
 "metadata": {
  "kernelspec": {
   "display_name": "Python 3 (ipykernel)",
   "language": "python",
   "name": "python3"
  },
  "language_info": {
   "codemirror_mode": {
    "name": "ipython",
    "version": 3
   },
   "file_extension": ".py",
   "mimetype": "text/x-python",
   "name": "python",
   "nbconvert_exporter": "python",
   "pygments_lexer": "ipython3",
   "version": "3.10.11"
  }
 },
 "nbformat": 4,
 "nbformat_minor": 5
}
