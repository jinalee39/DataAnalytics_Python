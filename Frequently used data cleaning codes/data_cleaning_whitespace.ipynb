{
 "cells": [
  {
   "cell_type": "markdown",
   "id": "94b2d4ac-3d9e-4b56-a56d-208bd2f537a7",
   "metadata": {},
   "source": [
    "- When I remove spaces from string data,  \n",
    "  I mainly use two functions (replace and strip) depending on the situation.\n",
    "- Let's look at the difference between the two functions,  \n",
    "  and why whitespace removal is necessary."
   ]
  },
  {
   "cell_type": "code",
   "execution_count": 3,
   "id": "07e69382-1451-4ff1-b429-4b48e365379b",
   "metadata": {},
   "outputs": [],
   "source": [
    "import pandas as pd"
   ]
  },
  {
   "cell_type": "code",
   "execution_count": 4,
   "id": "f9d3e850-340e-4362-94f9-65eba48d0ce8",
   "metadata": {},
   "outputs": [
    {
     "name": "stdout",
     "output_type": "stream",
     "text": [
      "(5, 2)\n"
     ]
    },
    {
     "data": {
      "text/html": [
       "<div>\n",
       "<style scoped>\n",
       "    .dataframe tbody tr th:only-of-type {\n",
       "        vertical-align: middle;\n",
       "    }\n",
       "\n",
       "    .dataframe tbody tr th {\n",
       "        vertical-align: top;\n",
       "    }\n",
       "\n",
       "    .dataframe thead th {\n",
       "        text-align: right;\n",
       "    }\n",
       "</style>\n",
       "<table border=\"1\" class=\"dataframe\">\n",
       "  <thead>\n",
       "    <tr style=\"text-align: right;\">\n",
       "      <th></th>\n",
       "      <th>name</th>\n",
       "      <th>location</th>\n",
       "    </tr>\n",
       "  </thead>\n",
       "  <tbody>\n",
       "    <tr>\n",
       "      <th>0</th>\n",
       "      <td>Bruce Baker</td>\n",
       "      <td>USA</td>\n",
       "    </tr>\n",
       "    <tr>\n",
       "      <th>1</th>\n",
       "      <td>Calliope Collins</td>\n",
       "      <td>USA</td>\n",
       "    </tr>\n",
       "    <tr>\n",
       "      <th>2</th>\n",
       "      <td>Emma Evans</td>\n",
       "      <td>HKG</td>\n",
       "    </tr>\n",
       "    <tr>\n",
       "      <th>3</th>\n",
       "      <td>Linda Lewis</td>\n",
       "      <td>HKG</td>\n",
       "    </tr>\n",
       "    <tr>\n",
       "      <th>4</th>\n",
       "      <td>Peter Parker</td>\n",
       "      <td>NZL</td>\n",
       "    </tr>\n",
       "  </tbody>\n",
       "</table>\n",
       "</div>"
      ],
      "text/plain": [
       "               name location\n",
       "0     Bruce Baker        USA\n",
       "1  Calliope Collins      USA\n",
       "2        Emma Evans      HKG\n",
       "3       Linda Lewis      HKG\n",
       "4      Peter Parker      NZL"
      ]
     },
     "execution_count": 4,
     "metadata": {},
     "output_type": "execute_result"
    }
   ],
   "source": [
    "df = pd.read_excel(\"data/sample_data_whitespace.xlsx\")\n",
    "print(df.shape)\n",
    "df"
   ]
  },
  {
   "cell_type": "markdown",
   "id": "31e626ff-182b-4b8d-b259-5cd221eb6755",
   "metadata": {},
   "source": [
    "- If spaces are removed using the replace function in the \"name\" column of the sample data,  \n",
    "  all spaces included in the string are removed.\n",
    "- On the other hand, when the strip function is applied,  \n",
    "  spaces located at the left and right ends of the string are removed,  \n",
    "  but internal spaces(spaces between first and last names) are not removed."
   ]
  },
  {
   "cell_type": "code",
   "execution_count": 5,
   "id": "25bc1d5e-a1eb-4f12-9a07-0fc74af226a0",
   "metadata": {},
   "outputs": [],
   "source": [
    "df['name_replace'] = df['name'].str.replace(\" \", \"\")\n",
    "df['name_strip'] = df['name'].apply(lambda x : x.strip())"
   ]
  },
  {
   "cell_type": "code",
   "execution_count": 6,
   "id": "07856444-9a25-411d-9016-5272026dda49",
   "metadata": {},
   "outputs": [
    {
     "name": "stdout",
     "output_type": "stream",
     "text": [
      "(5, 4)\n"
     ]
    },
    {
     "data": {
      "text/html": [
       "<div>\n",
       "<style scoped>\n",
       "    .dataframe tbody tr th:only-of-type {\n",
       "        vertical-align: middle;\n",
       "    }\n",
       "\n",
       "    .dataframe tbody tr th {\n",
       "        vertical-align: top;\n",
       "    }\n",
       "\n",
       "    .dataframe thead th {\n",
       "        text-align: right;\n",
       "    }\n",
       "</style>\n",
       "<table border=\"1\" class=\"dataframe\">\n",
       "  <thead>\n",
       "    <tr style=\"text-align: right;\">\n",
       "      <th></th>\n",
       "      <th>name</th>\n",
       "      <th>location</th>\n",
       "      <th>name_replace</th>\n",
       "      <th>name_strip</th>\n",
       "    </tr>\n",
       "  </thead>\n",
       "  <tbody>\n",
       "    <tr>\n",
       "      <th>0</th>\n",
       "      <td>Bruce Baker</td>\n",
       "      <td>USA</td>\n",
       "      <td>BruceBaker</td>\n",
       "      <td>Bruce Baker</td>\n",
       "    </tr>\n",
       "    <tr>\n",
       "      <th>1</th>\n",
       "      <td>Calliope Collins</td>\n",
       "      <td>USA</td>\n",
       "      <td>CalliopeCollins</td>\n",
       "      <td>Calliope Collins</td>\n",
       "    </tr>\n",
       "    <tr>\n",
       "      <th>2</th>\n",
       "      <td>Emma Evans</td>\n",
       "      <td>HKG</td>\n",
       "      <td>EmmaEvans</td>\n",
       "      <td>Emma Evans</td>\n",
       "    </tr>\n",
       "    <tr>\n",
       "      <th>3</th>\n",
       "      <td>Linda Lewis</td>\n",
       "      <td>HKG</td>\n",
       "      <td>LindaLewis</td>\n",
       "      <td>Linda Lewis</td>\n",
       "    </tr>\n",
       "    <tr>\n",
       "      <th>4</th>\n",
       "      <td>Peter Parker</td>\n",
       "      <td>NZL</td>\n",
       "      <td>PeterParker</td>\n",
       "      <td>Peter Parker</td>\n",
       "    </tr>\n",
       "  </tbody>\n",
       "</table>\n",
       "</div>"
      ],
      "text/plain": [
       "               name location     name_replace        name_strip\n",
       "0     Bruce Baker        USA       BruceBaker       Bruce Baker\n",
       "1  Calliope Collins      USA  CalliopeCollins  Calliope Collins\n",
       "2        Emma Evans      HKG        EmmaEvans        Emma Evans\n",
       "3       Linda Lewis      HKG       LindaLewis       Linda Lewis\n",
       "4      Peter Parker      NZL      PeterParker      Peter Parker"
      ]
     },
     "execution_count": 6,
     "metadata": {},
     "output_type": "execute_result"
    }
   ],
   "source": [
    "print(df.shape)\n",
    "df"
   ]
  },
  {
   "cell_type": "markdown",
   "id": "286a0e9e-b30e-4b5a-b6a4-8082a81141cb",
   "metadata": {},
   "source": [
    "- Let's look at why whitespace removal is necessary in the data cleaning step.\n",
    "- Suppose you want to combine the \"name\" and \"location\" columns into one column.\n",
    "- \"name_loc_1\" is a column merged with the \"location\" column without removing spaces from the \"name\" column.  \n",
    "  Looking at row 0, there was a space to the right of \"Bruce Baker\", so the merged column reveals this(\"Bruce Baker _USA\")\n",
    "- In the columns \"name_loc_2\" and \"name_loc_3\", which are the results of merging after removing blanks,  \n",
    "  all data appears in the same format without errors."
   ]
  },
  {
   "cell_type": "code",
   "execution_count": 7,
   "id": "0727d59d-2f98-4cb9-925f-96e1fdbe92a1",
   "metadata": {},
   "outputs": [],
   "source": [
    "df['name_loc_1'] = df['name'] + '_' + df['location']\n",
    "df['name_loc_2'] = df['name_replace'] + '_' + df['location']\n",
    "df['name_loc_3'] = df['name_strip'] + '_' + df['location']"
   ]
  },
  {
   "cell_type": "code",
   "execution_count": 8,
   "id": "eedf8b56-1ea4-4ae9-9b62-d3d79ab2af12",
   "metadata": {},
   "outputs": [
    {
     "name": "stdout",
     "output_type": "stream",
     "text": [
      "(5, 7)\n"
     ]
    },
    {
     "data": {
      "text/html": [
       "<div>\n",
       "<style scoped>\n",
       "    .dataframe tbody tr th:only-of-type {\n",
       "        vertical-align: middle;\n",
       "    }\n",
       "\n",
       "    .dataframe tbody tr th {\n",
       "        vertical-align: top;\n",
       "    }\n",
       "\n",
       "    .dataframe thead th {\n",
       "        text-align: right;\n",
       "    }\n",
       "</style>\n",
       "<table border=\"1\" class=\"dataframe\">\n",
       "  <thead>\n",
       "    <tr style=\"text-align: right;\">\n",
       "      <th></th>\n",
       "      <th>name</th>\n",
       "      <th>location</th>\n",
       "      <th>name_replace</th>\n",
       "      <th>name_strip</th>\n",
       "      <th>name_loc_1</th>\n",
       "      <th>name_loc_2</th>\n",
       "      <th>name_loc_3</th>\n",
       "    </tr>\n",
       "  </thead>\n",
       "  <tbody>\n",
       "    <tr>\n",
       "      <th>0</th>\n",
       "      <td>Bruce Baker</td>\n",
       "      <td>USA</td>\n",
       "      <td>BruceBaker</td>\n",
       "      <td>Bruce Baker</td>\n",
       "      <td>Bruce Baker  _USA</td>\n",
       "      <td>BruceBaker_USA</td>\n",
       "      <td>Bruce Baker_USA</td>\n",
       "    </tr>\n",
       "    <tr>\n",
       "      <th>1</th>\n",
       "      <td>Calliope Collins</td>\n",
       "      <td>USA</td>\n",
       "      <td>CalliopeCollins</td>\n",
       "      <td>Calliope Collins</td>\n",
       "      <td>Calliope Collins_USA</td>\n",
       "      <td>CalliopeCollins_USA</td>\n",
       "      <td>Calliope Collins_USA</td>\n",
       "    </tr>\n",
       "    <tr>\n",
       "      <th>2</th>\n",
       "      <td>Emma Evans</td>\n",
       "      <td>HKG</td>\n",
       "      <td>EmmaEvans</td>\n",
       "      <td>Emma Evans</td>\n",
       "      <td>Emma Evans_HKG</td>\n",
       "      <td>EmmaEvans_HKG</td>\n",
       "      <td>Emma Evans_HKG</td>\n",
       "    </tr>\n",
       "    <tr>\n",
       "      <th>3</th>\n",
       "      <td>Linda Lewis</td>\n",
       "      <td>HKG</td>\n",
       "      <td>LindaLewis</td>\n",
       "      <td>Linda Lewis</td>\n",
       "      <td>Linda Lewis_HKG</td>\n",
       "      <td>LindaLewis_HKG</td>\n",
       "      <td>Linda Lewis_HKG</td>\n",
       "    </tr>\n",
       "    <tr>\n",
       "      <th>4</th>\n",
       "      <td>Peter Parker</td>\n",
       "      <td>NZL</td>\n",
       "      <td>PeterParker</td>\n",
       "      <td>Peter Parker</td>\n",
       "      <td>Peter Parker_NZL</td>\n",
       "      <td>PeterParker_NZL</td>\n",
       "      <td>Peter Parker_NZL</td>\n",
       "    </tr>\n",
       "  </tbody>\n",
       "</table>\n",
       "</div>"
      ],
      "text/plain": [
       "               name location     name_replace        name_strip  \\\n",
       "0     Bruce Baker        USA       BruceBaker       Bruce Baker   \n",
       "1  Calliope Collins      USA  CalliopeCollins  Calliope Collins   \n",
       "2        Emma Evans      HKG        EmmaEvans        Emma Evans   \n",
       "3       Linda Lewis      HKG       LindaLewis       Linda Lewis   \n",
       "4      Peter Parker      NZL      PeterParker      Peter Parker   \n",
       "\n",
       "             name_loc_1           name_loc_2            name_loc_3  \n",
       "0     Bruce Baker  _USA       BruceBaker_USA       Bruce Baker_USA  \n",
       "1  Calliope Collins_USA  CalliopeCollins_USA  Calliope Collins_USA  \n",
       "2        Emma Evans_HKG        EmmaEvans_HKG        Emma Evans_HKG  \n",
       "3       Linda Lewis_HKG       LindaLewis_HKG       Linda Lewis_HKG  \n",
       "4      Peter Parker_NZL      PeterParker_NZL      Peter Parker_NZL  "
      ]
     },
     "execution_count": 8,
     "metadata": {},
     "output_type": "execute_result"
    }
   ],
   "source": [
    "print(df.shape)\n",
    "df"
   ]
  },
  {
   "cell_type": "code",
   "execution_count": 10,
   "id": "237b0d30-256d-429c-948e-6a982c59b1b0",
   "metadata": {},
   "outputs": [
    {
     "data": {
      "text/html": [
       "<style type=\"text/css\">\n",
       "#T_3da09_row0_col4, #T_3da09_row0_col5, #T_3da09_row0_col6 {\n",
       "  background-color: #ff9090;\n",
       "}\n",
       "</style>\n",
       "<table id=\"T_3da09\">\n",
       "  <thead>\n",
       "    <tr>\n",
       "      <th class=\"blank level0\" >&nbsp;</th>\n",
       "      <th id=\"T_3da09_level0_col0\" class=\"col_heading level0 col0\" >name</th>\n",
       "      <th id=\"T_3da09_level0_col1\" class=\"col_heading level0 col1\" >location</th>\n",
       "      <th id=\"T_3da09_level0_col2\" class=\"col_heading level0 col2\" >name_replace</th>\n",
       "      <th id=\"T_3da09_level0_col3\" class=\"col_heading level0 col3\" >name_strip</th>\n",
       "      <th id=\"T_3da09_level0_col4\" class=\"col_heading level0 col4\" >name_loc_1</th>\n",
       "      <th id=\"T_3da09_level0_col5\" class=\"col_heading level0 col5\" >name_loc_2</th>\n",
       "      <th id=\"T_3da09_level0_col6\" class=\"col_heading level0 col6\" >name_loc_3</th>\n",
       "    </tr>\n",
       "  </thead>\n",
       "  <tbody>\n",
       "    <tr>\n",
       "      <th id=\"T_3da09_level0_row0\" class=\"row_heading level0 row0\" >0</th>\n",
       "      <td id=\"T_3da09_row0_col0\" class=\"data row0 col0\" >Bruce Baker  </td>\n",
       "      <td id=\"T_3da09_row0_col1\" class=\"data row0 col1\" >USA</td>\n",
       "      <td id=\"T_3da09_row0_col2\" class=\"data row0 col2\" >BruceBaker</td>\n",
       "      <td id=\"T_3da09_row0_col3\" class=\"data row0 col3\" >Bruce Baker</td>\n",
       "      <td id=\"T_3da09_row0_col4\" class=\"data row0 col4\" >Bruce Baker  _USA</td>\n",
       "      <td id=\"T_3da09_row0_col5\" class=\"data row0 col5\" >BruceBaker_USA</td>\n",
       "      <td id=\"T_3da09_row0_col6\" class=\"data row0 col6\" >Bruce Baker_USA</td>\n",
       "    </tr>\n",
       "    <tr>\n",
       "      <th id=\"T_3da09_level0_row1\" class=\"row_heading level0 row1\" >1</th>\n",
       "      <td id=\"T_3da09_row1_col0\" class=\"data row1 col0\" >Calliope Collins</td>\n",
       "      <td id=\"T_3da09_row1_col1\" class=\"data row1 col1\" >USA</td>\n",
       "      <td id=\"T_3da09_row1_col2\" class=\"data row1 col2\" >CalliopeCollins</td>\n",
       "      <td id=\"T_3da09_row1_col3\" class=\"data row1 col3\" >Calliope Collins</td>\n",
       "      <td id=\"T_3da09_row1_col4\" class=\"data row1 col4\" >Calliope Collins_USA</td>\n",
       "      <td id=\"T_3da09_row1_col5\" class=\"data row1 col5\" >CalliopeCollins_USA</td>\n",
       "      <td id=\"T_3da09_row1_col6\" class=\"data row1 col6\" >Calliope Collins_USA</td>\n",
       "    </tr>\n",
       "    <tr>\n",
       "      <th id=\"T_3da09_level0_row2\" class=\"row_heading level0 row2\" >2</th>\n",
       "      <td id=\"T_3da09_row2_col0\" class=\"data row2 col0\" >Emma Evans</td>\n",
       "      <td id=\"T_3da09_row2_col1\" class=\"data row2 col1\" >HKG</td>\n",
       "      <td id=\"T_3da09_row2_col2\" class=\"data row2 col2\" >EmmaEvans</td>\n",
       "      <td id=\"T_3da09_row2_col3\" class=\"data row2 col3\" >Emma Evans</td>\n",
       "      <td id=\"T_3da09_row2_col4\" class=\"data row2 col4\" >Emma Evans_HKG</td>\n",
       "      <td id=\"T_3da09_row2_col5\" class=\"data row2 col5\" >EmmaEvans_HKG</td>\n",
       "      <td id=\"T_3da09_row2_col6\" class=\"data row2 col6\" >Emma Evans_HKG</td>\n",
       "    </tr>\n",
       "    <tr>\n",
       "      <th id=\"T_3da09_level0_row3\" class=\"row_heading level0 row3\" >3</th>\n",
       "      <td id=\"T_3da09_row3_col0\" class=\"data row3 col0\" >Linda Lewis</td>\n",
       "      <td id=\"T_3da09_row3_col1\" class=\"data row3 col1\" >HKG</td>\n",
       "      <td id=\"T_3da09_row3_col2\" class=\"data row3 col2\" >LindaLewis</td>\n",
       "      <td id=\"T_3da09_row3_col3\" class=\"data row3 col3\" >Linda Lewis</td>\n",
       "      <td id=\"T_3da09_row3_col4\" class=\"data row3 col4\" >Linda Lewis_HKG</td>\n",
       "      <td id=\"T_3da09_row3_col5\" class=\"data row3 col5\" >LindaLewis_HKG</td>\n",
       "      <td id=\"T_3da09_row3_col6\" class=\"data row3 col6\" >Linda Lewis_HKG</td>\n",
       "    </tr>\n",
       "    <tr>\n",
       "      <th id=\"T_3da09_level0_row4\" class=\"row_heading level0 row4\" >4</th>\n",
       "      <td id=\"T_3da09_row4_col0\" class=\"data row4 col0\" >Peter Parker</td>\n",
       "      <td id=\"T_3da09_row4_col1\" class=\"data row4 col1\" >NZL</td>\n",
       "      <td id=\"T_3da09_row4_col2\" class=\"data row4 col2\" >PeterParker</td>\n",
       "      <td id=\"T_3da09_row4_col3\" class=\"data row4 col3\" >Peter Parker</td>\n",
       "      <td id=\"T_3da09_row4_col4\" class=\"data row4 col4\" >Peter Parker_NZL</td>\n",
       "      <td id=\"T_3da09_row4_col5\" class=\"data row4 col5\" >PeterParker_NZL</td>\n",
       "      <td id=\"T_3da09_row4_col6\" class=\"data row4 col6\" >Peter Parker_NZL</td>\n",
       "    </tr>\n",
       "  </tbody>\n",
       "</table>\n"
      ],
      "text/plain": [
       "<pandas.io.formats.style.Styler at 0x236b4d47d00>"
      ]
     },
     "execution_count": 10,
     "metadata": {},
     "output_type": "execute_result"
    }
   ],
   "source": [
    "def bg_color(x, color):\n",
    "    color = f'background-color:{color}'\n",
    "    return color\n",
    "\n",
    "df.style.applymap(bg_color, color='#ff9090', subset = pd.IndexSlice[0, ['name_loc_1', 'name_loc_2', 'name_loc_3']])"
   ]
  }
 ],
 "metadata": {
  "kernelspec": {
   "display_name": "Python 3 (ipykernel)",
   "language": "python",
   "name": "python3"
  },
  "language_info": {
   "codemirror_mode": {
    "name": "ipython",
    "version": 3
   },
   "file_extension": ".py",
   "mimetype": "text/x-python",
   "name": "python",
   "nbconvert_exporter": "python",
   "pygments_lexer": "ipython3",
   "version": "3.10.11"
  }
 },
 "nbformat": 4,
 "nbformat_minor": 5
}
