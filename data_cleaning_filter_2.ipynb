{
 "cells": [
  {
   "cell_type": "markdown",
   "id": "2e6add70-5779-4fa1-870e-95a69a6ad061",
   "metadata": {},
   "source": [
    "- In addition to \"str.contains()\",  \n",
    "  there is an \"isin()\" function in the Python code that acts as a filter in Excel.\n",
    "- \"str.contains()\" extracts all data that \"contains\" the character to be searched for,  \n",
    "  but \"isin()\" extracts only data that \"completely matches\" the search value.\n",
    "- In the data below,  \n",
    "  if you want to extract data for which \"법정동명\" corresponds to \"부산광역시 중구 중앙동 1가~6가\",  \n",
    "  \"isin()\" can be used like this."
   ]
  },
  {
   "cell_type": "code",
   "execution_count": 1,
   "id": "bbc19c7e",
   "metadata": {
    "scrolled": true,
    "tags": []
   },
   "outputs": [],
   "source": [
    "import pandas as pd\n",
    "import numpy as np"
   ]
  },
  {
   "cell_type": "markdown",
   "id": "a8fc5301-e5d0-469b-a351-d3b94f94b575",
   "metadata": {},
   "source": [
    "### Read file\n",
    "- raw data name : \"건축물연령공간정보\" - 부산광역시 중구\n",
    "- raw data source : The National Spatial Information Portal (http://openapi.nsdi.go.kr/nsdi/index.do)"
   ]
  },
  {
   "cell_type": "code",
   "execution_count": 2,
   "id": "3a4b285a-bfbd-4c7f-8d7b-14e95e5ae307",
   "metadata": {
    "tags": []
   },
   "outputs": [],
   "source": [
    "df = pd.read_csv('./data/국가공간정보포털_건축물연령정보_부산중구.csv',\n",
    "                sep='\\t', encoding='utf-8')"
   ]
  },
  {
   "cell_type": "code",
   "execution_count": 3,
   "id": "aeba8ca1-3fb6-4e68-884a-55c7f7e64489",
   "metadata": {},
   "outputs": [
    {
     "name": "stdout",
     "output_type": "stream",
     "text": [
      "<class 'pandas.core.frame.DataFrame'>\n",
      "RangeIndex: 6536 entries, 0 to 6535\n",
      "Data columns (total 9 columns):\n",
      " #   Column    Non-Null Count  Dtype  \n",
      "---  ------    --------------  -----  \n",
      " 0   법정동명      6536 non-null   object \n",
      " 1   건물연면적     6536 non-null   float64\n",
      " 2   건축물구조명    6534 non-null   object \n",
      " 3   주요용도명     6535 non-null   object \n",
      " 4   건물높이      6533 non-null   float64\n",
      " 5   지상층수      6536 non-null   int64  \n",
      " 6   지하층수      6518 non-null   float64\n",
      " 7   건물연령      4448 non-null   float64\n",
      " 8   geometry  6536 non-null   object \n",
      "dtypes: float64(4), int64(1), object(4)\n",
      "memory usage: 459.7+ KB\n"
     ]
    }
   ],
   "source": [
    "df.info()"
   ]
  },
  {
   "cell_type": "code",
   "execution_count": 4,
   "id": "2ee0b6bb-3dbe-49fe-8594-8beabe13f5f6",
   "metadata": {},
   "outputs": [
    {
     "data": {
      "text/plain": [
       "array(['부산광역시 중구 영주동', '부산광역시 중구 대창동1가', '부산광역시 중구 대창동2가',\n",
       "       '부산광역시 중구 중앙동1가', '부산광역시 중구 중앙동2가', '부산광역시 중구 중앙동3가',\n",
       "       '부산광역시 중구 중앙동4가', '부산광역시 중구 중앙동5가', '부산광역시 중구 중앙동6가',\n",
       "       '부산광역시 중구 동광동1가', '부산광역시 중구 동광동2가', '부산광역시 중구 동광동3가',\n",
       "       '부산광역시 중구 동광동4가', '부산광역시 중구 동광동5가', '부산광역시 중구 대청동1가',\n",
       "       '부산광역시 중구 대청동2가', '부산광역시 중구 대청동3가', '부산광역시 중구 대청동4가',\n",
       "       '부산광역시 중구 보수동1가', '부산광역시 중구 보수동2가', '부산광역시 중구 보수동3가',\n",
       "       '부산광역시 중구 부평동1가', '부산광역시 중구 부평동2가', '부산광역시 중구 부평동3가',\n",
       "       '부산광역시 중구 부평동4가', '부산광역시 중구 신창동1가', '부산광역시 중구 신창동2가',\n",
       "       '부산광역시 중구 신창동3가', '부산광역시 중구 신창동4가', '부산광역시 중구 창선동1가',\n",
       "       '부산광역시 중구 창선동2가', '부산광역시 중구 광복동1가', '부산광역시 중구 광복동2가',\n",
       "       '부산광역시 중구 광복동3가', '부산광역시 중구 남포동1가', '부산광역시 중구 남포동2가',\n",
       "       '부산광역시 중구 남포동3가', '부산광역시 중구 남포동4가', '부산광역시 중구 남포동5가',\n",
       "       '부산광역시 중구 남포동6가'], dtype=object)"
      ]
     },
     "execution_count": 4,
     "metadata": {},
     "output_type": "execute_result"
    }
   ],
   "source": [
    "df['법정동명'].unique()"
   ]
  },
  {
   "cell_type": "code",
   "execution_count": 5,
   "id": "bb6069d0-0e2f-4ec8-a482-3a4ed69cf0bf",
   "metadata": {},
   "outputs": [],
   "source": [
    "list_filter = ['부산광역시 중구 중앙동1가', '부산광역시 중구 중앙동2가', '부산광역시 중구 중앙동3가',\n",
    "               '부산광역시 중구 중앙동4가', '부산광역시 중구 중앙동5가', '부산광역시 중구 중앙동6가']"
   ]
  },
  {
   "cell_type": "code",
   "execution_count": 6,
   "id": "11066a32-e9e7-4765-a23b-f243eaab8ae9",
   "metadata": {},
   "outputs": [
    {
     "name": "stdout",
     "output_type": "stream",
     "text": [
      "(6536, 9)\n",
      "(497, 9)\n"
     ]
    }
   ],
   "source": [
    "df_중앙동 = df[df['법정동명'].isin(list_filter)]\n",
    "\n",
    "print(df.shape)\n",
    "print(df_중앙동.shape)"
   ]
  },
  {
   "cell_type": "code",
   "execution_count": 8,
   "id": "2955cd5d-50d0-4933-b5cb-7a153ecb0aa2",
   "metadata": {},
   "outputs": [
    {
     "name": "stdout",
     "output_type": "stream",
     "text": [
      "<class 'pandas.core.frame.DataFrame'>\n",
      "Index: 497 entries, 1409 to 1905\n",
      "Data columns (total 9 columns):\n",
      " #   Column    Non-Null Count  Dtype  \n",
      "---  ------    --------------  -----  \n",
      " 0   법정동명      497 non-null    object \n",
      " 1   건물연면적     497 non-null    float64\n",
      " 2   건축물구조명    496 non-null    object \n",
      " 3   주요용도명     497 non-null    object \n",
      " 4   건물높이      497 non-null    float64\n",
      " 5   지상층수      497 non-null    int64  \n",
      " 6   지하층수      494 non-null    float64\n",
      " 7   건물연령      291 non-null    float64\n",
      " 8   geometry  497 non-null    object \n",
      "dtypes: float64(4), int64(1), object(4)\n",
      "memory usage: 38.8+ KB\n"
     ]
    }
   ],
   "source": [
    "df_중앙동.info()"
   ]
  },
  {
   "cell_type": "code",
   "execution_count": 9,
   "id": "798d030a-fb63-4f9c-a5b7-6a1825fa19f1",
   "metadata": {},
   "outputs": [
    {
     "data": {
      "text/plain": [
       "법정동명\n",
       "부산광역시 중구 중앙동4가    291\n",
       "부산광역시 중구 중앙동2가     64\n",
       "부산광역시 중구 중앙동3가     47\n",
       "부산광역시 중구 중앙동1가     40\n",
       "부산광역시 중구 중앙동5가     32\n",
       "부산광역시 중구 중앙동6가     23\n",
       "Name: count, dtype: int64"
      ]
     },
     "execution_count": 9,
     "metadata": {},
     "output_type": "execute_result"
    }
   ],
   "source": [
    "df_중앙동['법정동명'].value_counts()"
   ]
  }
 ],
 "metadata": {
  "kernelspec": {
   "display_name": "Python 3 (ipykernel)",
   "language": "python",
   "name": "python3"
  },
  "language_info": {
   "codemirror_mode": {
    "name": "ipython",
    "version": 3
   },
   "file_extension": ".py",
   "mimetype": "text/x-python",
   "name": "python",
   "nbconvert_exporter": "python",
   "pygments_lexer": "ipython3",
   "version": "3.10.11"
  }
 },
 "nbformat": 4,
 "nbformat_minor": 5
}
