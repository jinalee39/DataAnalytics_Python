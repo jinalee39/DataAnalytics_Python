{
 "cells": [
  {
   "cell_type": "markdown",
   "id": "6c5f41ed-23c3-46b7-9591-0dbc733e6fd8",
   "metadata": {},
   "source": [
    "- After identifying outliers in the data,  \n",
    "  it is necessary to go through a cleaning process,  \n",
    "  such as deleting all data rows containing the outliers or  \n",
    "  replacing only the outlier values with missing/specific values to preserve data in other columns.\n",
    "- When replacing outliers, use the \"replace\" or \"np.where\" function.\n",
    "- When an outlier is expressed not as a single value but as a specific condition or range,  \n",
    "  the \"np.where\" function is more convenient than \"replace\"."
   ]
  },
  {
   "cell_type": "code",
   "execution_count": 1,
   "id": "c7aefed3-11f8-4cf6-8250-9ea3193848ae",
   "metadata": {},
   "outputs": [],
   "source": [
    "import pandas as pd\n",
    "import numpy as np"
   ]
  },
  {
   "cell_type": "code",
   "execution_count": 2,
   "id": "c1391af0-42e2-48c7-a126-bb52a0c9d044",
   "metadata": {},
   "outputs": [
    {
     "name": "stdout",
     "output_type": "stream",
     "text": [
      "(100, 2)\n"
     ]
    },
    {
     "data": {
      "text/html": [
       "<div>\n",
       "<style scoped>\n",
       "    .dataframe tbody tr th:only-of-type {\n",
       "        vertical-align: middle;\n",
       "    }\n",
       "\n",
       "    .dataframe tbody tr th {\n",
       "        vertical-align: top;\n",
       "    }\n",
       "\n",
       "    .dataframe thead th {\n",
       "        text-align: right;\n",
       "    }\n",
       "</style>\n",
       "<table border=\"1\" class=\"dataframe\">\n",
       "  <thead>\n",
       "    <tr style=\"text-align: right;\">\n",
       "      <th></th>\n",
       "      <th>id_banana</th>\n",
       "      <th>length_banana</th>\n",
       "    </tr>\n",
       "  </thead>\n",
       "  <tbody>\n",
       "    <tr>\n",
       "      <th>0</th>\n",
       "      <td>1</td>\n",
       "      <td>11.90</td>\n",
       "    </tr>\n",
       "    <tr>\n",
       "      <th>1</th>\n",
       "      <td>2</td>\n",
       "      <td>17.69</td>\n",
       "    </tr>\n",
       "    <tr>\n",
       "      <th>2</th>\n",
       "      <td>3</td>\n",
       "      <td>16.06</td>\n",
       "    </tr>\n",
       "    <tr>\n",
       "      <th>3</th>\n",
       "      <td>4</td>\n",
       "      <td>12.34</td>\n",
       "    </tr>\n",
       "    <tr>\n",
       "      <th>4</th>\n",
       "      <td>5</td>\n",
       "      <td>17.53</td>\n",
       "    </tr>\n",
       "  </tbody>\n",
       "</table>\n",
       "</div>"
      ],
      "text/plain": [
       "   id_banana   length_banana\n",
       "0           1          11.90\n",
       "1           2          17.69\n",
       "2           3          16.06\n",
       "3           4          12.34\n",
       "4           5          17.53"
      ]
     },
     "execution_count": 2,
     "metadata": {},
     "output_type": "execute_result"
    }
   ],
   "source": [
    "df = pd.read_excel(\"data/sample_data_outlier.xlsx\")\n",
    "print(df.shape)\n",
    "df.head()"
   ]
  },
  {
   "cell_type": "markdown",
   "id": "7952cbba-85c4-43e2-8fd4-e14dae675ffe",
   "metadata": {},
   "source": [
    "- In the sample data with banana length information,  \n",
    "  assume that the value of the \"length_banana\" column is less than 5 or greater than 35 as an error/outlier."
   ]
  },
  {
   "cell_type": "code",
   "execution_count": 3,
   "id": "9bc09c41-eae2-4ca9-9ef6-d50d8d37404d",
   "metadata": {},
   "outputs": [
    {
     "data": {
      "text/html": [
       "<div>\n",
       "<style scoped>\n",
       "    .dataframe tbody tr th:only-of-type {\n",
       "        vertical-align: middle;\n",
       "    }\n",
       "\n",
       "    .dataframe tbody tr th {\n",
       "        vertical-align: top;\n",
       "    }\n",
       "\n",
       "    .dataframe thead th {\n",
       "        text-align: right;\n",
       "    }\n",
       "</style>\n",
       "<table border=\"1\" class=\"dataframe\">\n",
       "  <thead>\n",
       "    <tr style=\"text-align: right;\">\n",
       "      <th></th>\n",
       "      <th>id_banana</th>\n",
       "      <th>length_banana</th>\n",
       "    </tr>\n",
       "  </thead>\n",
       "  <tbody>\n",
       "    <tr>\n",
       "      <th>77</th>\n",
       "      <td>78</td>\n",
       "      <td>36.6</td>\n",
       "    </tr>\n",
       "    <tr>\n",
       "      <th>98</th>\n",
       "      <td>99</td>\n",
       "      <td>0.0</td>\n",
       "    </tr>\n",
       "    <tr>\n",
       "      <th>99</th>\n",
       "      <td>100</td>\n",
       "      <td>3.1</td>\n",
       "    </tr>\n",
       "  </tbody>\n",
       "</table>\n",
       "</div>"
      ],
      "text/plain": [
       "    id_banana   length_banana\n",
       "77          78           36.6\n",
       "98          99            0.0\n",
       "99         100            3.1"
      ]
     },
     "execution_count": 3,
     "metadata": {},
     "output_type": "execute_result"
    }
   ],
   "source": [
    "df[(df['length_banana']<=5)|(df['length_banana']>=35)]"
   ]
  },
  {
   "cell_type": "markdown",
   "id": "e0814bcb-eeb8-4b80-af19-b6a1caae1a92",
   "metadata": {},
   "source": [
    "- Using the \"np.where\" function as shown below,  \n",
    "  the three values corresponding to the outlier range can be replaced  \n",
    "  with np.nan, the number 0, or the average value of \"length_banana\"."
   ]
  },
  {
   "cell_type": "code",
   "execution_count": 4,
   "id": "e7f7de46-9abb-4e70-90fe-fa0bc9b50ffb",
   "metadata": {},
   "outputs": [],
   "source": [
    "# replaced with np.nan\n",
    "\n",
    "df[\"length_banana_1\"] = np.where((df['length_banana']<=5)|(df['length_banana']>=35),\n",
    "                                 np.nan,\n",
    "                                 df[\"length_banana\"])"
   ]
  },
  {
   "cell_type": "code",
   "execution_count": 5,
   "id": "d15a3b07-cdec-402a-9959-b2bd00e03ed9",
   "metadata": {},
   "outputs": [],
   "source": [
    "# replaced with the number 0\n",
    "\n",
    "df[\"length_banana_2\"] = np.where((df['length_banana']<=5)|(df['length_banana']>=35),\n",
    "                                 0,\n",
    "                                 df[\"length_banana\"])"
   ]
  },
  {
   "cell_type": "code",
   "execution_count": 6,
   "id": "edf5db15-eb53-4de6-81b1-12be7440ad9b",
   "metadata": {},
   "outputs": [],
   "source": [
    "# replaced with the average value of \"length_banana\"\n",
    "\n",
    "df[\"length_banana_3\"] = np.where((df['length_banana']<=5)|(df['length_banana']>=35),\n",
    "                                 df['length_banana'].mean(),\n",
    "                                 df[\"length_banana\"])"
   ]
  },
  {
   "cell_type": "code",
   "execution_count": 7,
   "id": "d9a45212-bb6c-4b78-93a0-8263c5ad44a9",
   "metadata": {},
   "outputs": [
    {
     "data": {
      "text/html": [
       "<div>\n",
       "<style scoped>\n",
       "    .dataframe tbody tr th:only-of-type {\n",
       "        vertical-align: middle;\n",
       "    }\n",
       "\n",
       "    .dataframe tbody tr th {\n",
       "        vertical-align: top;\n",
       "    }\n",
       "\n",
       "    .dataframe thead th {\n",
       "        text-align: right;\n",
       "    }\n",
       "</style>\n",
       "<table border=\"1\" class=\"dataframe\">\n",
       "  <thead>\n",
       "    <tr style=\"text-align: right;\">\n",
       "      <th></th>\n",
       "      <th>id_banana</th>\n",
       "      <th>length_banana</th>\n",
       "      <th>length_banana_1</th>\n",
       "      <th>length_banana_2</th>\n",
       "      <th>length_banana_3</th>\n",
       "    </tr>\n",
       "  </thead>\n",
       "  <tbody>\n",
       "    <tr>\n",
       "      <th>77</th>\n",
       "      <td>78</td>\n",
       "      <td>36.6</td>\n",
       "      <td>NaN</td>\n",
       "      <td>0.0</td>\n",
       "      <td>16.6569</td>\n",
       "    </tr>\n",
       "    <tr>\n",
       "      <th>98</th>\n",
       "      <td>99</td>\n",
       "      <td>0.0</td>\n",
       "      <td>NaN</td>\n",
       "      <td>0.0</td>\n",
       "      <td>16.6569</td>\n",
       "    </tr>\n",
       "    <tr>\n",
       "      <th>99</th>\n",
       "      <td>100</td>\n",
       "      <td>3.1</td>\n",
       "      <td>NaN</td>\n",
       "      <td>0.0</td>\n",
       "      <td>16.6569</td>\n",
       "    </tr>\n",
       "  </tbody>\n",
       "</table>\n",
       "</div>"
      ],
      "text/plain": [
       "    id_banana   length_banana  length_banana_1  length_banana_2  \\\n",
       "77          78           36.6              NaN              0.0   \n",
       "98          99            0.0              NaN              0.0   \n",
       "99         100            3.1              NaN              0.0   \n",
       "\n",
       "    length_banana_3  \n",
       "77          16.6569  \n",
       "98          16.6569  \n",
       "99          16.6569  "
      ]
     },
     "execution_count": 7,
     "metadata": {},
     "output_type": "execute_result"
    }
   ],
   "source": [
    "df.loc[[77,98,99]]"
   ]
  }
 ],
 "metadata": {
  "kernelspec": {
   "display_name": "Python 3 (ipykernel)",
   "language": "python",
   "name": "python3"
  },
  "language_info": {
   "codemirror_mode": {
    "name": "ipython",
    "version": 3
   },
   "file_extension": ".py",
   "mimetype": "text/x-python",
   "name": "python",
   "nbconvert_exporter": "python",
   "pygments_lexer": "ipython3",
   "version": "3.10.11"
  }
 },
 "nbformat": 4,
 "nbformat_minor": 5
}
